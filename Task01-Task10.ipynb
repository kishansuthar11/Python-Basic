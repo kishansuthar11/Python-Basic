{
 "cells": [
  {
   "cell_type": "markdown",
   "id": "cd3fb0cf-fa26-4667-87a3-d0f848fb5367",
   "metadata": {},
   "source": [
    "**Task: 01** First Program"
   ]
  },
  {
   "cell_type": "code",
   "execution_count": 1,
   "id": "1acf7cac-b097-4991-94ea-15f591e24c9f",
   "metadata": {},
   "outputs": [
    {
     "name": "stdout",
     "output_type": "stream",
     "text": [
      "Hello Pyhton!\n"
     ]
    }
   ],
   "source": [
    "print(\"Hello Pyhton!\")"
   ]
  },
  {
   "cell_type": "markdown",
   "id": "fe1d2b05-506a-4f11-869b-59c9b0142dfc",
   "metadata": {},
   "source": [
    "**Task: 02** Python Comments & Indentations."
   ]
  },
  {
   "cell_type": "code",
   "execution_count": 5,
   "id": "68e48090-606e-4d54-8285-2c285b42b4b5",
   "metadata": {},
   "outputs": [
    {
     "name": "stdout",
     "output_type": "stream",
     "text": [
      "Hello Python!,\n",
      "Python code ko line by line read kr ta h isliye slow execution hai.\n"
     ]
    }
   ],
   "source": [
    "print(\"Hello Python!,\"); print(\"Python code ko line by line read kr ta h isliye slow execution hai.\")"
   ]
  },
  {
   "cell_type": "code",
   "execution_count": 7,
   "id": "1f1fa8fd-0710-4528-8e38-4d2b9b45a2a2",
   "metadata": {},
   "outputs": [
    {
     "name": "stdout",
     "output_type": "stream",
     "text": [
      "A is not Grater then five,\n",
      "but A is equals to five\n",
      "Out side the if block....\n"
     ]
    }
   ],
   "source": [
    "a = 5\n",
    "if a >= 5:\n",
    "    print(\"A is not Grater then five,\");print(\"but A is equals to five\")\n",
    "print(\"Out side the if block....\")"
   ]
  },
  {
   "cell_type": "code",
   "execution_count": 9,
   "id": "fec1080e-8cfe-414e-9044-e4e4c35790d7",
   "metadata": {},
   "outputs": [
    {
     "name": "stdout",
     "output_type": "stream",
     "text": [
      "35\n"
     ]
    }
   ],
   "source": [
    "a  = 5+8+4+\\\n",
    "    8+6+4\n",
    "print(a)"
   ]
  },
  {
   "cell_type": "code",
   "execution_count": 10,
   "id": "b85cf598-6f36-4842-b43b-f768456a2739",
   "metadata": {},
   "outputs": [
    {
     "name": "stdout",
     "output_type": "stream",
     "text": [
      "35\n"
     ]
    }
   ],
   "source": [
    "a  = (5+8+4+\n",
    "    8+6+4)\n",
    "print(a)"
   ]
  },
  {
   "cell_type": "code",
   "execution_count": 12,
   "id": "ecd474c2-01b8-49bf-b865-d5b005a0a875",
   "metadata": {},
   "outputs": [
    {
     "name": "stdout",
     "output_type": "stream",
     "text": [
      "Python is Great Language!\n"
     ]
    }
   ],
   "source": [
    "# ye line execute nahi hogi.....\n",
    "print(\"Python is Great Language!\") # single line comment"
   ]
  },
  {
   "cell_type": "code",
   "execution_count": 15,
   "id": "6f0e3ae0-3738-430a-af4a-f5da9af887a4",
   "metadata": {},
   "outputs": [
    {
     "name": "stdout",
     "output_type": "stream",
     "text": [
      "Python have a huge library!\n"
     ]
    }
   ],
   "source": [
    "'''\n",
    "yaha pr hum tripal single quot\n",
    "use kre ge multiple line ko comment kr ne\n",
    "ke liye\n",
    "'''\n",
    "print(\"Python have a huge library!\")"
   ]
  },
  {
   "cell_type": "markdown",
   "id": "4760892f-675c-4600-be9b-a2b50617873a",
   "metadata": {},
   "source": [
    "**Task: 03** Variable and  Basic Data Type(Num& String)"
   ]
  },
  {
   "cell_type": "code",
   "execution_count": 19,
   "id": "c39951d6-1371-407e-aa05-6165350701d5",
   "metadata": {},
   "outputs": [
    {
     "name": "stdout",
     "output_type": "stream",
     "text": [
      "India ka education system kafi change ho gya h jaha student purane jmane me copy pen se pd te the.\n",
      "wahi aaj kl ke student laptop, Computer, and smart  trh se studies kr ne lg gye hai....\n"
     ]
    }
   ],
   "source": [
    "a = \"India ka education system kafi change ho gya h jaha student purane jmane me copy pen se pd te the.\\nwahi aaj kl ke student laptop, Computer, and smart  trh se studies kr ne lg gye hai....\"\n",
    "print(a)"
   ]
  },
  {
   "cell_type": "code",
   "execution_count": 28,
   "id": "1b4596a7-f957-4b78-9949-a857bac0ed5a",
   "metadata": {},
   "outputs": [
    {
     "name": "stdout",
     "output_type": "stream",
     "text": [
      "Addition is:16\n",
      "Substraction is:8\n",
      "Multiplication is:48\n",
      "Division is:3.0\n",
      "Floor Division  is:3\n",
      "Modulus is:0\n"
     ]
    }
   ],
   "source": [
    "#Integer Number Arithmetic\n",
    "num1 = 12 \n",
    "num2 = 4\n",
    "\n",
    "#Addition\n",
    "print(f\"Addition is:{num1+num2}\") #Output: 16\n",
    "\n",
    "#Substraction\n",
    "print(f\"Substraction is:{num1-num2}\") #Output: 8\n",
    "\n",
    "#Multiplication \n",
    "print(f\"Multiplication is:{num1*num2}\") #Output: 48\n",
    "\n",
    "#Division\n",
    "print(f\"Division is:{num1/num2}\") #Output: 3.0\n",
    "\n",
    "#Floor Division\n",
    "print(f\"Floor Division  is:{num1 // num2}\") #Output: 3\n",
    "\n",
    "#Modulus\n",
    "print(f\"Modulus is:{num1%num2}\") #Output: 0"
   ]
  },
  {
   "cell_type": "code",
   "execution_count": 31,
   "id": "c6a74da3-5a96-4ed4-943d-5ff146e0f302",
   "metadata": {},
   "outputs": [
    {
     "name": "stdout",
     "output_type": "stream",
     "text": [
      "Addition is:16.52\n",
      "Substraction is:7.719999999999999\n",
      "Multiplication is:53.328\n",
      "Division is:2.754545454545454\n",
      "Floor Division  is:2.0\n",
      "Modulus is:3.3199999999999985\n"
     ]
    }
   ],
   "source": [
    "#Floating  Number Arithmetic\n",
    "num1 = 12.12\n",
    "num2 = 4.4\n",
    "\n",
    "#Addition\n",
    "print(f\"Addition is:{num1+num2}\") #Output: 16.52\n",
    "\n",
    "#Substraction\n",
    "print(f\"Substraction is:{num1-num2}\") #Output: 7.719999999999999\n",
    "\n",
    "#Multiplication \n",
    "print(f\"Multiplication is:{num1*num2}\") #Output: 53.328\n",
    "\n",
    "#Division\n",
    "print(f\"Division is:{num1/num2}\") #Output: 2.754545454545454\n",
    "\n",
    "#Floor Division\n",
    "print(f\"Floor Division  is:{num1 // num2}\") #Output: 2.0\n",
    "\n",
    "#Modulus\n",
    "print(f\"Modulus is:{num1%num2}\") #Output: 3.3199999999999985\n"
   ]
  },
  {
   "cell_type": "code",
   "execution_count": 32,
   "id": "27bfee59-84f2-4be7-b2de-2ad5ba531994",
   "metadata": {},
   "outputs": [
    {
     "name": "stdout",
     "output_type": "stream",
     "text": [
      "Addition is:16.11\n"
     ]
    }
   ],
   "source": [
    "#Mixed Number Arithmetic (int + float)\n",
    "num1 = 12 \n",
    "num2 = 4.11\n",
    "\n",
    "#Addition\n",
    "print(f\"Addition is:{num1+num2}\") #Output: 16.11"
   ]
  },
  {
   "cell_type": "markdown",
   "id": "578d42c4-d043-4f14-917a-dae3e38844a9",
   "metadata": {},
   "source": [
    "**Task: 04** Detailed Exploration of Strings"
   ]
  },
  {
   "cell_type": "code",
   "execution_count": 43,
   "id": "335ff852-ea27-4dad-a001-13d2608a4b91",
   "metadata": {},
   "outputs": [
    {
     "name": "stdin",
     "output_type": "stream",
     "text": [
      "Kripya Indian Education ki koi ek strength batayein:  Time management\n"
     ]
    },
    {
     "name": "stdout",
     "output_type": "stream",
     "text": [
      "\n",
      "Aapne jo Strength batayi hai, woh yeh hai:\n",
      " Time management\n",
      "Strength ko upperCase me convert kare: \n",
      " TIME MANAGEMENT\n",
      "Strength ko lowerCase me convert kare: \n",
      " time management\n",
      "Strength ko Split kare: \n",
      " ['Time', 'management']\n",
      "Connected Strength is: Appki Strength hai ye:Time management. Hum  es Strength ko or jyada improvise kare ge.\n",
      "\n",
      "Sliced String (Pahle ke 7 character):\n",
      "Time ma\n",
      "Formatted string f-string ka paryod kar ke: Aapke Input ke Anusaar Time management, Indian Education ki ye ek strength hai.\n",
      "\n",
      "Formatted output using format() method:\n",
      "Aapne Indian Education ki ek Strength,'Time management' btai hai jo ki kafi hdd tk sahi hai.\n"
     ]
    }
   ],
   "source": [
    "#01 User se Input Lena\n",
    "edu_Strength = input(\"Kripya Indian Education ki koi ek strength batayein: \")\n",
    "\n",
    "print(\"\\nAapne jo Strength batayi hai, woh yeh hai:\\n\",edu_Strength)\n",
    "\n",
    "#02 Strenght ko upperCase me convert kare\n",
    "up = edu_Strength.upper()\n",
    "print(\"Strength ko upperCase me convert kare: \\n\",up)\n",
    "\n",
    "#03 Strenght ko lowerCase me convert kare\n",
    "lw = edu_Strength.lower()\n",
    "print(\"Strength ko lowerCase me convert kare: \\n\",lw)\n",
    "\n",
    "#04 Strenght ko split kare\n",
    "sp = edu_Strength.split()\n",
    "print(\"Strength ko Split kare: \\n\",sp)\n",
    "\n",
    "#05 Strength ko  dusre word se connect kare connect kare\n",
    "con = \"Appki Strength hai ye:\"+edu_Strength+\". Hum  es Strength ko or jyada improvise kare ge.\"\n",
    "print(f\"Connected Strength is: {con}\")\n",
    "\n",
    "#06 Strength ko slicing kr na\n",
    "if len(edu_Strength) > 7:\n",
    "    sl = edu_Strength[:7]\n",
    "else:\n",
    "    sl = edu_Strength\n",
    "print(\"\\nSliced String (Pahle ke 7 character):\")\n",
    "print(sl)\n",
    "\n",
    "#07 String ko formatting kare using f string\n",
    "f = f\"Aapke Input ke Anusaar {edu_Strength}, Indian Education ki ye ek strength hai.\"\n",
    "print(f\"Formatted string f-string ka paryod kar ke: {f}\")\n",
    "\n",
    "#08 string ko Format kar na format() Function ka paryod kr ke. \n",
    "sl1 = \"Aapne Indian Education ki ek Strength,'{}' btai hai jo ki kafi hdd tk sahi hai.\".format(edu_Strength)\n",
    "print(\"\\nFormatted output using format() method:\")\n",
    "print(sl1)"
   ]
  },
  {
   "cell_type": "markdown",
   "id": "c1d1093e-dc84-427a-a2ea-79d5dbc7e0b6",
   "metadata": {},
   "source": [
    "**Task 5:** Details: Other Data Types: Lists, Tuples, Dictionaries (aur Sets)"
   ]
  },
  {
   "cell_type": "code",
   "execution_count": 60,
   "id": "ccb6e297-6aee-40ec-a275-4afe39fac8cb",
   "metadata": {},
   "outputs": [
    {
     "name": "stdout",
     "output_type": "stream",
     "text": [
      "Python ke kuch learning topics:  ['Data Type', 'Variabel', 'Control Flow', 'OOP', 'Conditional Statement']\n",
      "After naya topic add kr ne ke baad:  ['Data Type', 'Variabel', 'Control Flow', 'OOP', 'Conditional Statement', 'File Handling']\n",
      "\n",
      "After modifying Fourth topic:\n",
      "['Data Type', 'Variabel', 'Control Flow', 'Exception Handling', 'Conditional Statement', 'File Handling']\n",
      "\n",
      " Brief Description of  Data Type:  (('List', 'Denoted in []'), ('Tuples', 'Denoted in ()'), ('Dictionary', 'Denoted in {}'), ('Set', 'Denoted in {} contain  unique value'))\n",
      "\n",
      " Car Details:  {'Brand_name': 'Mahindra', 'Model': 'BE6', 'Year of Launching': '2024'}\n",
      "Unique Topics: \n",
      "{'Modulus', 'Data Type', 'Method', 'OOP'}\n",
      "\n",
      "Iterating Python Learning Topics List:\n",
      "- Data Type\n",
      "- Variabel\n",
      "- Control Flow\n",
      "- Exception Handling\n",
      "- Conditional Statement\n",
      "- File Handling\n",
      "\n",
      "Iterating over Topic Status Dictionary:\n",
      "Brand_name: Mahindra\n",
      "Model: BE6\n",
      "Year of Launching: 2024\n",
      "\n",
      "Additional Topics (Set):\n",
      "{'MySQL', 'OOP', 'Cloud'}\n",
      "{'OOP'}\n",
      "Unique Topics in both Set:  {'Modulus', 'Data Type', 'Method', 'MySQL', 'OOP', 'Cloud'}\n"
     ]
    }
   ],
   "source": [
    "#List:\n",
    "\n",
    "#Creating list\n",
    "Py_Topics = [\"Data Type\", \"Variabel\", \"Control Flow\", \"OOP\", \"Conditional Statement\"]\n",
    "print(\"Python ke kuch learning topics: \",Py_Topics)\n",
    "\n",
    "#naya topic add kr na learinig topics me\n",
    "Py_Topics.append(\"File Handling\")\n",
    "print(\"After naya topic add kr ne ke baad: \",Py_Topics)\n",
    "\n",
    "#kisi vishisht jagah(index) pr value ko change kr na \n",
    "Py_Topics[3] = \"Exception Handling\"\n",
    "print(\"\\nAfter modifying Fourth topic:\")\n",
    "print(Py_Topics)\n",
    "\n",
    "#Tuples\n",
    "\n",
    "#Creating a tuple\n",
    "tup = (\n",
    "    (\"List\", \"Denoted in []\"),\n",
    "    (\"Tuples\", \"Denoted in ()\"),\n",
    "    (\"Dictionary\", \"Denoted in {}\"),\n",
    "    (\"Set\", \"Denoted in {} contain  unique value\")\n",
    ")\n",
    "print(\"\\n Brief Description of  Data Type: \",tup)\n",
    "\n",
    "#Dictionaries\n",
    "\n",
    "# Creating a Dictionary\n",
    "dict = {\n",
    "    \"Brand_name\": \"Mahindra\",\n",
    "    \"Model\": \"BE6\",\n",
    "    \"Year of Launching\": \"2024\"\n",
    "}\n",
    "print(\"\\n Car Details: \",dict)\n",
    "\n",
    "#set\n",
    "\n",
    "#Creating Set\n",
    "unique = {\"Modulus\", \"Method\", \"Data Type\", \"Method\", \"OOP\"}\n",
    "print(\"Unique Topics: \")\n",
    "print(unique)\n",
    "\n",
    "#Iteration of list, tuple, set, dict\n",
    "#List\n",
    "\n",
    "print(\"\\nIterating Python Learning Topics List:\")\n",
    "for topic in Py_Topics:\n",
    "    print(\"- \" + topic)\n",
    "\n",
    "#Dictionary\n",
    "print(\"\\nIterating over Topic Status Dictionary:\")\n",
    "for topic, status in dict.items():\n",
    "    print(f\"{topic}: {status}\")\n",
    "\n",
    "#Set\n",
    "additional_topics = {\"MySQL\", \"OOP\", \"Cloud\"}\n",
    "print(\"\\nAdditional Topics (Set):\")\n",
    "print(additional_topics)\n",
    "\n",
    "#Fine Common Topics in two Set\n",
    "common_topics = unique.intersection(additional_topics)\n",
    "print(common_topics)\n",
    "\n",
    "#Find Unique topics in both Set\n",
    "unique_topics = unique.union(additional_topics)\n",
    "print(\"Unique Topics in both Set: \",unique_topics)\n",
    "\n"
   ]
  },
  {
   "cell_type": "markdown",
   "id": "037d2931-941f-426c-ac95-5bfd465af43d",
   "metadata": {},
   "source": [
    "**Task 6:** Details: Operators: Arithmetic, Assignment, Comparison, Logical"
   ]
  },
  {
   "cell_type": "code",
   "execution_count": 77,
   "id": "0394fa69-383f-4fef-b52d-e098898338e7",
   "metadata": {},
   "outputs": [
    {
     "name": "stdout",
     "output_type": "stream",
     "text": [
      "Addition is:16\n",
      "Substraction is:8\n",
      "Multiplication is:48\n",
      "Division is:3.0\n",
      "Floor Division  is:3\n",
      "Modulus is:0\n",
      "Exponentiation is: 20736\n",
      "\n",
      "\n",
      "praarambhik Score:  56\n",
      "praarambhik score me 11 jod na:  67\n",
      "praarambhik score se 7 minus kr na:  60\n",
      "praarambhik ko 2 se guna kr na:  120\n",
      "praarambhik score ko 3 se bhag kr na:  40.0 \n",
      "\n",
      "\n"
     ]
    },
    {
     "name": "stdin",
     "output_type": "stream",
     "text": [
      "Enter a student Score:   85\n"
     ]
    },
    {
     "name": "stdout",
     "output_type": "stream",
     "text": [
      "Comparision Operator\n",
      "Student Marks:  85\n",
      "Passing Marks:  33\n",
      "Student score is greater then passing score?? True\n",
      "Student score is equals to passing score?? False\n",
      "Student score is not equals to passing score?? True\n",
      "Student score is less then passing score?? False \n",
      "\n",
      "\n"
     ]
    },
    {
     "name": "stdin",
     "output_type": "stream",
     "text": [
      "Enter Student Attendance:  75\n"
     ]
    },
    {
     "name": "stdout",
     "output_type": "stream",
     "text": [
      "**Logical Operators**\n",
      "Student score and upasthiti are sufficient.\n",
      "Result: Pass\n",
      "\n",
      "Result: Needs Improvement\n"
     ]
    }
   ],
   "source": [
    "## Arithmetic, Assignment, Comparison, Logical\n",
    "#**Arithmetic Operator**\n",
    "\n",
    "num1 = 12 \n",
    "num2 = 4\n",
    "\n",
    "#Addition\n",
    "print(f\"Addition is:{num1+num2}\") #Output: 16\n",
    "\n",
    "#Substraction\n",
    "print(f\"Substraction is:{num1-num2}\") #Output: 8\n",
    "\n",
    "#Multiplication \n",
    "print(f\"Multiplication is:{num1*num2}\") #Output: 48\n",
    "\n",
    "#Division\n",
    "print(f\"Division is:{num1/num2}\") #Output: 3.0\n",
    "\n",
    "#Floor Division\n",
    "print(f\"Floor Division  is:{num1 // num2}\") #Output: 3\n",
    "\n",
    "#Modulus\n",
    "print(f\"Modulus is:{num1%num2}\") #Output: 0\n",
    "\n",
    "#Exponentiation\n",
    "print(f\"Exponentiation is: {num1**num2}\\n\\n\")\n",
    "\n",
    "#**Assignment Opeartor**\n",
    "score = 56\n",
    "print(\"praarambhik Score: \",score)\n",
    "\n",
    "score += 11\n",
    "print(\"praarambhik score me 11 jod na: \",score)\n",
    "\n",
    "score -= 7\n",
    "print(\"praarambhik score se 7 minus kr na: \",score)\n",
    "\n",
    "score *= 2\n",
    "print(\"praarambhik ko 2 se guna kr na: \",score)\n",
    "\n",
    "score /= 3\n",
    "print(\"praarambhik score ko 3 se bhag kr na: \",score,\"\\n\\n\")\n",
    "\n",
    "#**Comparison Operators**\n",
    "score = int(input(\"Enter a student Score:  \"))\n",
    "passing = 33\n",
    "\n",
    "print(\"Comparision Operator\")\n",
    "print(\"Student Marks: \",score);print(\"Passing Marks: \",passing)\n",
    "\n",
    "isPass = score > passing\n",
    "print(\"Student score is greater then passing score??\",isPass)\n",
    "\n",
    "isPass = score == passing\n",
    "print(\"Student score is equals to passing score??\",isPass)\n",
    "\n",
    "isPass = score != passing\n",
    "print(\"Student score is not equals to passing score??\",isPass)\n",
    "\n",
    "isPass = score < passing\n",
    "print(\"Student score is less then passing score??\",isPass,\"\\n\\n\")\n",
    "\n",
    "#**Logical Operators**\n",
    "s_attendance = int(input(\"Enter Student Attendance: \"))\n",
    "attendance = 75\n",
    "print(\"**Logical Operators**\")\n",
    "if(score > 50) and (s_attendance >=75):\n",
    "    print(\"Student score and upasthiti are sufficient.\");print(\"Result: Pass\")\n",
    "else:\n",
    "    print(\"Student score and upasthiti are not sufficient.\");print(\"Result: Fail\")\n",
    "\n",
    "#**OR operator\n",
    "extra_credit = False\n",
    "if(score >=90) or extra_credit:\n",
    "    print(\"\\nResult: Excellent\")\n",
    "else:\n",
    "    print(\"\\nResult: Needs Improvement\")\n"
   ]
  },
  {
   "cell_type": "markdown",
   "id": "2847f56b-ded8-405b-bb69-11699f102ddf",
   "metadata": {},
   "source": [
    "**Task 7:** Details: Conditional Statements (if, elif, else) "
   ]
  },
  {
   "cell_type": "code",
   "execution_count": 87,
   "id": "0610f933-94c9-4a0e-a351-1f472b100f80",
   "metadata": {},
   "outputs": [
    {
     "name": "stdin",
     "output_type": "stream",
     "text": [
      "Enter Your Score(b/w-0 - 100): k\n"
     ]
    },
    {
     "name": "stdout",
     "output_type": "stream",
     "text": [
      "Enter a valid input!\n"
     ]
    }
   ],
   "source": [
    "#Conditional Statement\n",
    "score = (input(\"Enter Your Score(b/w-0 - 100):\"))\n",
    "try:\n",
    "    score1 = int(score)\n",
    "except ValueError:\n",
    "    print(\"Enter a valid input!\")\n",
    "    score = None\n",
    "if score is not None:\n",
    "    if score < 0 or score > 100:\n",
    "        print(\"Range (0 - 100) ke bich me nuber dalo\")\n",
    "    else:\n",
    "        if score < 50:\n",
    "            print(\"Result: Needs Improvement\")\n",
    "        elif score < 75:\n",
    "            print(\"Result: Good\")\n",
    "        else:\n",
    "            print(\"Result: Excellent\")\n",
    "    \n"
   ]
  },
  {
   "cell_type": "markdown",
   "id": "e7bcd3ab-5057-458b-8ba9-012be4ad23a0",
   "metadata": {},
   "source": [
    "**Task 8:** – For Loop"
   ]
  },
  {
   "cell_type": "code",
   "execution_count": 91,
   "id": "f674ee60-84ad-4ddf-ad51-c6a064b54746",
   "metadata": {},
   "outputs": [
    {
     "name": "stdout",
     "output_type": "stream",
     "text": [
      "Programming languages:  \n",
      "-Python\n",
      "-C++\n",
      "-Java\n",
      "-C\n",
      "-R\n",
      "-JavaScript\n",
      "1. Python\n",
      "2. C++\n",
      "3. Java\n",
      "4. C\n",
      "5. R\n",
      "6. JavaScript\n"
     ]
    }
   ],
   "source": [
    "#Use For Loop and print each element\n",
    "print(\"Programming languages:  \")\n",
    "li = [\n",
    "    \"Python\", \"C++\",\n",
    "    \"Java\", \"C\",\n",
    "    \"R\",\"JavaScript\"\n",
    "]\n",
    "for i in li:\n",
    "    print(\"-\" + i)\n",
    "#print with Index\n",
    "for index, topic in enumerate(li, start=1):\n",
    "    print(f\"{index}. {topic}\")\n"
   ]
  },
  {
   "cell_type": "markdown",
   "id": "b0ff38ce-0477-4647-bbc5-59e5020898a1",
   "metadata": {},
   "source": [
    "**Task 9:** While Loop"
   ]
  },
  {
   "cell_type": "code",
   "execution_count": 3,
   "id": "c77202e1-4a4c-4453-a904-04489ded1996",
   "metadata": {},
   "outputs": [
    {
     "name": "stdout",
     "output_type": "stream",
     "text": [
      "\n",
      "Iteration1:\n"
     ]
    },
    {
     "name": "stdin",
     "output_type": "stream",
     "text": [
      "Menoo (Enter 'q' ya 'quite' exit ke liye, ya koi bhi enter kro continue ke liye):  q\n"
     ]
    },
    {
     "name": "stdout",
     "output_type": "stream",
     "text": [
      "Exiting.....Loop Breaking\n",
      "Loop End ho gya hai\n"
     ]
    }
   ],
   "source": [
    "#while Loop\n",
    "count = 1\n",
    "loop = True\n",
    "while  loop:\n",
    "    print(f\"\\nIteration{count}:\")\n",
    "    ui = input(\"Menoo (Enter 'q' ya 'quite' exit ke liye, ya koi bhi enter kro continue ke liye):\")\n",
    "    if ui.lower() in ['q','quite']:\n",
    "        print(\"Exiting.....Loop Breaking\")\n",
    "        loop = False\n",
    "    else:\n",
    "        print(\"Aage ka process chalu hai...\")\n",
    "    count += 1\n",
    "\n",
    "print(\"Loop End ho gya hai\")"
   ]
  },
  {
   "cell_type": "markdown",
   "id": "ff7c2139-e478-4fa8-ad6d-b8b9136d8016",
   "metadata": {},
   "source": [
    "**Task 10** Details: Functions – Definition and Basic Syntax"
   ]
  },
  {
   "cell_type": "code",
   "execution_count": 12,
   "id": "8a54e314-a454-41d9-990c-ba4110cee0c1",
   "metadata": {},
   "outputs": [
    {
     "name": "stdout",
     "output_type": "stream",
     "text": [
      "Namaste! Swagat hai aapka function mein.\n",
      "Namaste! Swagat hai aapka function mein.\n",
      "Namaste! Swagat hai aapka function mein.\n",
      "Namaste! Swagat hai aapka function mein.\n",
      "Namaste! Swagat hai aapka function mein.\n",
      "Hello,KL-Rahul sawagat hai aapka function me.\n"
     ]
    }
   ],
   "source": [
    "def greet():\n",
    "    print(\"Namaste! Swagat hai aapka function mein.\")\n",
    "   \n",
    "for i in range(5):\n",
    "    greet()\n",
    "\n",
    "def  personalize_Greet(name):\n",
    "    print(f\"Hello,{name} sawagat hai aapka function me.\")\n",
    "personalize_Greet(\"KL-Rahul\")"
   ]
  },
  {
   "cell_type": "code",
   "execution_count": null,
   "id": "c907c9d6-165e-428d-bae7-b0e6d918e4cc",
   "metadata": {},
   "outputs": [],
   "source": []
  }
 ],
 "metadata": {
  "kernelspec": {
   "display_name": "Python 3 (ipykernel)",
   "language": "python",
   "name": "python3"
  },
  "language_info": {
   "codemirror_mode": {
    "name": "ipython",
    "version": 3
   },
   "file_extension": ".py",
   "mimetype": "text/x-python",
   "name": "python",
   "nbconvert_exporter": "python",
   "pygments_lexer": "ipython3",
   "version": "3.12.2"
  }
 },
 "nbformat": 4,
 "nbformat_minor": 5
}
