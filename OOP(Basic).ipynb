{
 "cells": [
  {
   "cell_type": "markdown",
   "id": "d994f4e7-7dbc-4cbd-9ad2-f3335f825169",
   "metadata": {},
   "source": [
    "**Task 1** : class"
   ]
  },
  {
   "cell_type": "code",
   "execution_count": 5,
   "id": "6692b73f-bc3f-4a0f-96ec-f16ed35dc027",
   "metadata": {},
   "outputs": [
    {
     "name": "stdout",
     "output_type": "stream",
     "text": [
      "2020,Models are Trend in Market.\n",
      "Black is Not Trend in market.\n",
      "2010,Models are Not Trend in Market.\n",
      "Red is Trend in market.\n"
     ]
    }
   ],
   "source": [
    "class smartPhone:\n",
    "    def __init__(self,model,trend,color):\n",
    "        self.model = model\n",
    "        self.trend = trend\n",
    "        self.color = color\n",
    "    def nowTrending(self):\n",
    "        return f\"{self.model},Models are {self.trend} in Market.\"\n",
    "    def colors(self):\n",
    "        return f\"{self.color} is {self.trend} in market.\"\n",
    "mob1 = smartPhone(2020,\"Trend\",\"Red\")\n",
    "mob2 = smartPhone(2010,\"Not Trend\",\"Black\")\n",
    "print(mob1.nowTrending())\n",
    "print(mob2.colors())\n",
    "print(mob2.nowTrending())\n",
    "print(mob1.colors())"
   ]
  },
  {
   "cell_type": "markdown",
   "id": "7baaa04e-136e-4945-bfdc-4a9352ced6ce",
   "metadata": {},
   "source": [
    "**Task 02** Constructors"
   ]
  },
  {
   "cell_type": "code",
   "execution_count": 13,
   "id": "1f8137a7-570b-4ac5-aec9-f8ebe0080dea",
   "metadata": {},
   "outputs": [
    {
     "name": "stdout",
     "output_type": "stream",
     "text": [
      "[INIT] 'Variables' module initialized with progress 0%.\n",
      "--Module Descriptiomn--\n",
      "Module Name: Variables\n",
      "Description: Introduction to variables, assignment, and data storage.\n",
      "Progress is: 0\n",
      "[UPDATE] Progress for 'Variables' updated to 24%.\n",
      "--Module Descriptiomn--\n",
      "Module Name: Variables\n",
      "Description: Introduction to variables, assignment, and data storage.\n",
      "Progress is: 24\n"
     ]
    }
   ],
   "source": [
    "class LearningModules:\n",
    "    def __init__(self,module_name,description,progress = 0):\n",
    "        self.mName = module_name\n",
    "        self.des = description\n",
    "        self.pros = progress\n",
    "        print(f\"[INIT] '{self.mName}' module initialized with progress {self.pros}%.\")\n",
    "        \n",
    "    def info(self):\n",
    "        print(\"--Module Descriptiomn--\")\n",
    "        print(f\"Module Name: {self.mName}\\nDescription: {self.des}\\nProgress is: {self.pros}\")\n",
    "\n",
    "    def update_Mod(self,new_Pros):\n",
    "        self.pros = new_Pros\n",
    "        print(f\"[UPDATE] Progress for '{self.mName}' updated to {self.pros}%.\")\n",
    "\n",
    "obj = LearningModules(\"Variables\", \"Introduction to variables, assignment, and data storage.\")\n",
    "obj.info()\n",
    "\n",
    "obj.update_Mod(24)\n",
    "\n",
    "obj.info()\n"
   ]
  },
  {
   "cell_type": "markdown",
   "id": "96d35173-92b1-40d7-97b5-86f2a7b324f2",
   "metadata": {},
   "source": [
    "**Task 03** Inheritance"
   ]
  },
  {
   "cell_type": "code",
   "execution_count": 6,
   "id": "192bab54-e781-4c7c-bb30-93b89d8a2edb",
   "metadata": {},
   "outputs": [
    {
     "name": "stdout",
     "output_type": "stream",
     "text": [
      "hay i am from parent class: Radhe\n",
      "23\n",
      "2\n"
     ]
    }
   ],
   "source": [
    "class A:\n",
    "    def __init__(self,name):\n",
    "        self.name = name\n",
    "        print(f\"hay i am from parent class: {name}\")\n",
    "    def add(self, a, b):\n",
    "        return a+b\n",
    "class B(A):\n",
    "    def sub(self, x, y):\n",
    "        return x-y\n",
    "obj  = B(\"Radhe\")\n",
    "print(obj.add(11,12))\n",
    "print(obj.sub(12,10))"
   ]
  },
  {
   "cell_type": "code",
   "execution_count": 4,
   "id": "93a7f7ae-45b2-439d-a32c-54ab5b69a128",
   "metadata": {},
   "outputs": [
    {
     "name": "stdout",
     "output_type": "stream",
     "text": [
      "[INIT] 'Data Type' module initialized with progress 0%.\n",
      "---Data Type---\n",
      "--Module Descriptiomn--\n",
      "Module Name: Data Type\n",
      "Description: the classification of data items into different categories\n",
      "Progress is: 0\n",
      "[UPDATE] Progress for 'Data Type' updated to 40%.\n",
      "---Data Type---\n",
      "--Module Descriptiomn--\n",
      "Module Name: Data Type\n",
      "Description: the classification of data items into different categories\n",
      "Progress is: 40\n",
      "[INIT] 'Control Flow' module initialized with progress 0%.\n",
      "---Control Flow---\n",
      "--Module Descriptiomn--\n",
      "Module Name: Control Flow\n",
      "Description: the order in which the Python interpreter executes statements, functions, and operations\n",
      "Progress is: 0\n",
      "[UPDATE] Progress for 'Control Flow' updated to 80%.\n",
      "---Control Flow---\n",
      "--Module Descriptiomn--\n",
      "Module Name: Control Flow\n",
      "Description: the order in which the Python interpreter executes statements, functions, and operations\n",
      "Progress is: 80\n"
     ]
    }
   ],
   "source": [
    "class LearningModules:\n",
    "    def __init__(self, module_name, description, progress = 0):\n",
    "        self.mName = module_name\n",
    "        self.des = description\n",
    "        self.pros = progress\n",
    "        print(f\"[INIT] '{self.mName}' module initialized with progress {self.pros}%.\")\n",
    "        \n",
    "    def info(self):\n",
    "        print(\"--Module Descriptiomn--\")\n",
    "        print(f\"Module Name: {self.mName}\\nDescription: {self.des}\\nProgress is: {self.pros}\")\n",
    "\n",
    "    def update_Mod(self, new_Pros):\n",
    "        self.pros = new_Pros\n",
    "        print(f\"[UPDATE] Progress for '{self.mName}' updated to {self.pros}%.\")\n",
    "\n",
    "class varModule(LearningModules):\n",
    "    def __init__(self, description, progress = 0):\n",
    "        super().__init__(\"Data Type\",description,progress)\n",
    "        \n",
    "    def info(self):\n",
    "        print(\"---Data Type---\")\n",
    "        super().info()\n",
    "\n",
    "class controlModule(LearningModules):\n",
    "    def __init__(self, description, progress = 0):\n",
    "        super().__init__(\"Control Flow\", description, progress)\n",
    "        \n",
    "    def info(self):\n",
    "        print(\"---Control Flow---\")\n",
    "        super().info()\n",
    "\n",
    "#Variable Class\n",
    "varMod = varModule(description = \"the classification of data items into different categories\")\n",
    "varMod.info()\n",
    "varMod.update_Mod(40)\n",
    "varMod.info()\n",
    "\n",
    "#ControlFlow class\n",
    "conMod = controlModule(description = \"the order in which the Python interpreter executes statements, functions, and operations\")\n",
    "conMod.info()\n",
    "conMod.update_Mod(80)\n",
    "conMod.info()\n"
   ]
  },
  {
   "cell_type": "markdown",
   "id": "439942f3-c056-4b07-b852-27fd2eafb78b",
   "metadata": {},
   "source": [
    "**Task 4**: Encapsulation & Data Hiding"
   ]
  },
  {
   "cell_type": "code",
   "execution_count": 18,
   "id": "f4a8da76-a90a-4e1c-aee2-85330f594a45",
   "metadata": {},
   "outputs": [
    {
     "name": "stdout",
     "output_type": "stream",
     "text": [
      "Account Holder Name: Raghvendra Sharma\n",
      "Available Balance is: 2965\n",
      "Deposit Amount: 327, New Balacne is: 3292\n",
      "Withdrawn Amount: 350, Available Balance is: 2942\n"
     ]
    }
   ],
   "source": [
    "class BankAccount:\n",
    "    def __init__(self, account_holder, balance):\n",
    "        self.name = account_holder\n",
    "        self.__bal = balance\n",
    "    def get_balance(self):\n",
    "        print(f\"Account Holder Name: {self.name}\")\n",
    "        return self.__bal\n",
    "    def deposit(self,amount):\n",
    "        if amount > 0:\n",
    "            self.__bal += amount\n",
    "            print(f\"Deposit Amount: {amount}, New Balacne is: {self.__bal}\")\n",
    "        else:\n",
    "            print(\"Enter a valid amount to deposite!\")\n",
    "    def withdraw(self, amount):\n",
    "        if amount <= self.__bal:\n",
    "            self.__bal -= amount\n",
    "            print(f\"Withdrawn Amount: {amount}, Available Balance is: {self.__bal}\")\n",
    "        else:\n",
    "            print(\"Enter a vlid amount to withdrawal!\")\n",
    "\n",
    "ac = BankAccount(\"Raghvendra Sharma\",2965)\n",
    "\n",
    "print(f\"Available Balance is: {ac.get_balance()}\")\n",
    "\n",
    "ac.deposit(327)\n",
    "\n",
    "ac.withdraw(350)\n",
    "\n",
    "\n",
    "            "
   ]
  },
  {
   "cell_type": "code",
   "execution_count": 24,
   "id": "43c4d2bf-9a70-4bd9-8fdf-f2387719f148",
   "metadata": {},
   "outputs": [
    {
     "name": "stdout",
     "output_type": "stream",
     "text": [
      "[INIT] 'Python, iteration' module initialized with progress 0%.\n",
      "--Module Descriptiomn--\n",
      "Module Name: Python, iteration\n",
      "Description:  the process of repeating a block of code multiple times\n",
      "Progress is: 0\n",
      "[UPDATE] Progress for 'Python, iteration' updated to 69%.\n",
      "--Module Descriptiomn--\n",
      "Module Name: Python, iteration\n",
      "Description:  the process of repeating a block of code multiple times\n",
      "Progress is: 69\n"
     ]
    }
   ],
   "source": [
    "class SecureLearning:\n",
    "    def __init__(self, module_name, description, progress = 0):\n",
    "        self.mName = module_name\n",
    "        self.des = description\n",
    "        self.__pros = progress\n",
    "        print(f\"[INIT] '{self.mName}' module initialized with progress {self.__pros}%.\")\n",
    "    def get_progress(self):\n",
    "        return self.__pros\n",
    "    def set_progress(self, newProgress):\n",
    "        if isinstance(newProgress, int) and 0 <= newProgress <= 100:\n",
    "            self.__pros = newProgress\n",
    "            print(f\"[UPDATE] Progress for '{self.mName}' updated to {self.__pros}%.\")\n",
    "        else:\n",
    "            print(\"Error: Invalid progress value! Please enter an integer between 0 and 100.\")\n",
    "    def info(self):\n",
    "        print(\"--Module Descriptiomn--\")\n",
    "        print(f\"Module Name: {self.mName}\\nDescription: {self.des}\\nProgress is: {self.__pros}\")\n",
    "modSecure = SecureLearning(\"Python, iteration\",\" the process of repeating a block of code multiple times\")\n",
    "modSecure.info()\n",
    "modSecure.set_progress(69)\n",
    "modSecure.get_progress()\n",
    "modSecure.info()"
   ]
  },
  {
   "cell_type": "markdown",
   "id": "01605ed7-f10c-4665-b2c5-e877c584f852",
   "metadata": {},
   "source": [
    "**Task 5** Details: Polymorphism & Method Overriding"
   ]
  },
  {
   "cell_type": "code",
   "execution_count": 33,
   "id": "eb475752-77b2-4633-a823-39a9c7bab3c1",
   "metadata": {},
   "outputs": [
    {
     "name": "stdout",
     "output_type": "stream",
     "text": [
      "---Mobile Information---\n",
      "Samsung Company.\n",
      "s23 Ultra Model.\n",
      "125000₹\n",
      "---Mobile Information---\n",
      "Apple Company.\n",
      "iPhone 16 Pro Max Model.\n",
      "245000₹\n",
      "---Mobile Information---\n",
      "Redmi Company.\n",
      "Redmi Not 13 Pro Model.\n",
      "18000₹\n",
      "---Mobile Information---\n",
      "Vivo Company.\n",
      "Vivo v15 Model.\n",
      "12500₹\n"
     ]
    }
   ],
   "source": [
    "#Example 1\n",
    "class mobile:\n",
    "    def __init__(self, company, model,price):\n",
    "        self.com = company\n",
    "        self.mod = model\n",
    "        self.rate = price\n",
    "    def info(self):\n",
    "        print(\"---Mobile Information---\")\n",
    "        print(f\"{self.com} Company.\\n{self.mod} Model.\\n{self.rate}₹\")\n",
    "class samsung(mobile):\n",
    "    def __init__(self,model,price):\n",
    "        super().__init__(\"Samsung\",model,price)\n",
    "    def info(self):\n",
    "        super().info()\n",
    "class apple(mobile):\n",
    "    def __init__(self,model,price):\n",
    "        super().__init__(\"Apple\",model,price)    \n",
    "    def info(self):\n",
    "        super().info()\n",
    "class redmi(mobile):\n",
    "    def __init__(self,model,price):\n",
    "        super().__init__(\"Redmi\",model,price)\n",
    "    def info(self):\n",
    "        super().info()\n",
    "class vivo(mobile):\n",
    "    def __init__(self,model,price):\n",
    "        super().__init__(\"Vivo\",model,price)\n",
    "    def info(self):\n",
    "        super().info()\n",
    "\n",
    "sam = samsung(\"s23 Ultra\",125000)\n",
    "ap = apple(\"iPhone 16 Pro Max\",245000)\n",
    "re = redmi(\"Redmi Not 13 Pro\",18000)\n",
    "vi = vivo(\"Vivo v15\",12500)\n",
    "\n",
    "mobInfo = [sam, ap, re, vi]\n",
    "for i in mobInfo:\n",
    "    i.info()"
   ]
  },
  {
   "cell_type": "code",
   "execution_count": 51,
   "id": "77ef2710-d968-4e7c-8d23-6a471ba1a9df",
   "metadata": {},
   "outputs": [
    {
     "name": "stdout",
     "output_type": "stream",
     "text": [
      "---All Module---\n",
      "1. Variable.\n",
      "2. Data Type.\n",
      "3. Control Flow.\n",
      "4. Loops.\n",
      "0. Exiting....\n",
      "\n"
     ]
    },
    {
     "name": "stdin",
     "output_type": "stream",
     "text": [
      "Choose What You Want to Learn:  1\n"
     ]
    },
    {
     "name": "stdout",
     "output_type": "stream",
     "text": [
      "[Variable Module] Processing module name: Variable\n",
      "Description:\n",
      "a characteristic, number, or quantity that can be measured or counte\n",
      "\n",
      "---All Module---\n",
      "1. Variable.\n",
      "2. Data Type.\n",
      "3. Control Flow.\n",
      "4. Loops.\n",
      "0. Exiting....\n",
      "\n"
     ]
    },
    {
     "name": "stdin",
     "output_type": "stream",
     "text": [
      "Choose What You Want to Learn:  2\n"
     ]
    },
    {
     "name": "stdout",
     "output_type": "stream",
     "text": [
      "[Data Type Module] Processing module name: Data Types\n",
      "Description:\n",
      "a classification of data that specifies how a computer should interpret its value.\n",
      "\n",
      "---All Module---\n",
      "1. Variable.\n",
      "2. Data Type.\n",
      "3. Control Flow.\n",
      "4. Loops.\n",
      "0. Exiting....\n",
      "\n"
     ]
    },
    {
     "name": "stdin",
     "output_type": "stream",
     "text": [
      "Choose What You Want to Learn:  0\n"
     ]
    },
    {
     "name": "stdout",
     "output_type": "stream",
     "text": [
      "Exiting...\n"
     ]
    }
   ],
   "source": [
    "#Example 2\n",
    "class module:\n",
    "    def __init__(self, name):\n",
    "        self.name = name\n",
    "    def process_module(self):\n",
    "        print(f\"{self.name}\\n1. Variable.\\n2. Data Type.\\n3. Control Flow.\\n4. Loops.\\n0. Exiting....\\n\")\n",
    "\n",
    "class variable(module):\n",
    "    def __init__(self, description):\n",
    "        super().__init__(\"Variable\")\n",
    "        self.des = description\n",
    "    def process_module(self):\n",
    "        print(f\"[Variable Module] Processing module name: {self.name}\\nDescription:\\n{self.des}\\n\")\n",
    "\n",
    "class DataType(module):\n",
    "    def __init__(self, description):\n",
    "        super().__init__(\"Data Types\")\n",
    "        self.des = description\n",
    "    def process_module(self):\n",
    "        print(f\"[Data Type Module] Processing module name: {self.name}\\nDescription:\\n{self.des}\\n\")\n",
    "\n",
    "class controlFlow(module):\n",
    "    def __init__(self, description):\n",
    "        super().__init__(\"Control Flow\")\n",
    "        self.des = description\n",
    "    def process_module(self):\n",
    "        print(f\"[Control Flow Module] Processing module name: {self.name}\\nDescription:\\n{self.des}\\n\")\n",
    "\n",
    "class loops(module):\n",
    "    def __init__(self, description):\n",
    "        super().__init__(\"Loops\")\n",
    "        self.des = description\n",
    "    def process_module(self):\n",
    "        print(f\"[Loops Module] Processing module name: {self.name}\\nDescription:\\n{self.des}\\n\")\n",
    "\n",
    "main = module(\"---All Module---\")\n",
    "var = variable(\"a characteristic, number, or quantity that can be measured or counte\")\n",
    "dy = DataType(\"a classification of data that specifies how a computer should interpret its value.\")\n",
    "cf = controlFlow(\" the order in which instructions are executed in a program\")\n",
    "loop = loops(\"a programming construct that repeats a block of code multiple times\")\n",
    "i = True\n",
    "while i:\n",
    "    main.process_module()\n",
    "    ch = input(\"Choose What You Want to Learn: \")\n",
    "    \n",
    "    if ch == '1':\n",
    "        var.process_module()\n",
    "    elif ch == '2':\n",
    "        dy.process_module()\n",
    "    elif ch == '3':\n",
    "        cf.process_module()\n",
    "    elif ch == '4':\n",
    "        loop.process_module()\n",
    "    elif ch == '0':\n",
    "        print(\"Exiting...\")\n",
    "        i = False\n",
    "    else:\n",
    "        print(\"Choose a Right option!\")\n",
    "    "
   ]
  },
  {
   "cell_type": "markdown",
   "id": "99c44d80-38f6-47c1-9e4b-22b5599f7ae4",
   "metadata": {},
   "source": [
    "**Task 6** Details: Class & Static Methods, Properties"
   ]
  },
  {
   "cell_type": "code",
   "execution_count": null,
   "id": "411fde11-6fc6-4e3a-9219-7b27a886f8d1",
   "metadata": {},
   "outputs": [],
   "source": []
  }
 ],
 "metadata": {
  "kernelspec": {
   "display_name": "Python 3 (ipykernel)",
   "language": "python",
   "name": "python3"
  },
  "language_info": {
   "codemirror_mode": {
    "name": "ipython",
    "version": 3
   },
   "file_extension": ".py",
   "mimetype": "text/x-python",
   "name": "python",
   "nbconvert_exporter": "python",
   "pygments_lexer": "ipython3",
   "version": "3.12.2"
  }
 },
 "nbformat": 4,
 "nbformat_minor": 5
}
